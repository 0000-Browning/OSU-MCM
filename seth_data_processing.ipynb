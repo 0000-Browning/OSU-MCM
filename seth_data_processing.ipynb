{
 "cells": [
  {
   "cell_type": "code",
   "execution_count": null,
   "metadata": {},
   "outputs": [],
   "source": [
    "from openpyxl import load_workbook\n",
    "import re"
   ]
  },
  {
   "cell_type": "code",
   "execution_count": null,
   "metadata": {},
   "outputs": [],
   "source": []
  },
  {
   "cell_type": "code",
   "execution_count": null,
   "metadata": {},
   "outputs": [],
   "source": [
    "# Load the workbook\n",
    "wb = load_workbook(r\"C:\\Users\\Owner\\OneDrive\\Documents\\GitHub\\OSU-MCM\\Basketball_dataset_clean_seth.xlsx\")\n",
    "\n",
    "\n",
    "def is_integer(s):\n",
    "    try:\n",
    "        int(s)\n",
    "        return True\n",
    "    except ValueError:\n",
    "        return False\n",
    "\n",
    "\n",
    "# Iterate through all sheets\n",
    "for sheet in wb.worksheets:\n",
    "    for row in sheet.iter_rows():\n",
    "        for cell in row:\n",
    "            if cell.value and isinstance(cell.value, str):\n",
    "                # Split the string into parts\n",
    "                cell_value = re.sub(r'[^\\S\\n]', ' ', cell.value.strip())\n",
    "                parts = cell_value.split(\" \")  # Remove leading/trailing spaces\n",
    "                # Check if the last part is a \"(number)\" pattern\n",
    "                if parts[-1].startswith(\"(\") and parts[-1].endswith(\")\") and is_integer(parts[-1][1:-1]):\n",
    "                    # Remove the last part and join the rest\n",
    "                    updated_value = \" \".join(parts[:-1])\n",
    "                    print(f\"Replacing {cell.value} with {updated_value}\")\n",
    "                    cell.value = updated_value\n",
    "\n",
    "# Save the changes\n",
    "wb.save(r\"C:\\Users\\Owner\\OneDrive\\Documents\\GitHub\\OSU-MCM\\Basketball_dataset_clean_seth_updated.xlsx\")\n"
   ]
  },
  {
   "cell_type": "code",
   "execution_count": null,
   "metadata": {},
   "outputs": [],
   "source": [
    "# Load the workbook\n",
    "wb = load_workbook(r\"C:\\Users\\Owner\\OneDrive\\Documents\\GitHub\\OSU-MCM\\Basketball_dataset_clean_seth.xlsx\")\n",
    "\n",
    "# Iterate through all sheets\n",
    "for sheet in wb.worksheets:\n",
    "    for row in sheet.iter_rows():\n",
    "        for cell in row:\n",
    "            # Check if the cell contains the text to find\n",
    "            if cell.value and isinstance(cell.value, str) and \"Connecticut\" in cell.value:\n",
    "                # Replace the text\n",
    "                cell.value = cell.value.replace(\"Connecticut\", \"UConn\")\n",
    "                print(\"Found one!\")\n",
    "\n",
    "# Save the changes\n",
    "wb.save(r\"C:\\Users\\Owner\\OneDrive\\Documents\\GitHub\\OSU-MCM\\Basketball_dataset_clean_seth_updated.xlsx\")"
   ]
  }
 ],
 "metadata": {
  "kernelspec": {
   "display_name": "base",
   "language": "python",
   "name": "python3"
  },
  "language_info": {
   "codemirror_mode": {
    "name": "ipython",
    "version": 3
   },
   "file_extension": ".py",
   "mimetype": "text/x-python",
   "name": "python",
   "nbconvert_exporter": "python",
   "pygments_lexer": "ipython3",
   "version": "3.10.15"
  }
 },
 "nbformat": 4,
 "nbformat_minor": 2
}
