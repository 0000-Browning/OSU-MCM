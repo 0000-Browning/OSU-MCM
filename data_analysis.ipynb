{
 "cells": [
  {
   "cell_type": "code",
   "execution_count": 1,
   "metadata": {},
   "outputs": [],
   "source": [
    "import pandas as pd\n",
    "import numpy as np"
   ]
  },
  {
   "cell_type": "code",
   "execution_count": 2,
   "metadata": {},
   "outputs": [],
   "source": [
    "# load in excel sheets\n",
    "xls = pd.ExcelFile('Basketball_dataset.xlsx')\n",
    "final_records = pd.read_excel(xls, 0)\n",
    "game_records = pd.read_excel(xls, list(range(1,69)))"
   ]
  },
  {
   "cell_type": "code",
   "execution_count": null,
   "metadata": {},
   "outputs": [],
   "source": [
    "# print output\n",
    "print(final_records)\n",
    "print(game_records[1]['Score_diff'])"
   ]
  },
  {
   "cell_type": "code",
   "execution_count": 5,
   "metadata": {},
   "outputs": [],
   "source": [
    "# calculate score differential for all games\n",
    "for i in range(1,69):\n",
    "    game_records[i]['Score_diff'] = game_records[i]['Tm'] - game_records[i]['Opp']"
   ]
  },
  {
   "cell_type": "code",
   "execution_count": 15,
   "metadata": {},
   "outputs": [
    {
     "name": "stderr",
     "output_type": "stream",
     "text": [
      "C:\\Users\\jake3\\AppData\\Local\\Temp\\ipykernel_68788\\3731473513.py:3: SettingWithCopyWarning: \n",
      "A value is trying to be set on a copy of a slice from a DataFrame\n",
      "\n",
      "See the caveats in the documentation: https://pandas.pydata.org/pandas-docs/stable/user_guide/indexing.html#returning-a-view-versus-a-copy\n",
      "  final_records[\"Score_diff\"][i-1] = np.sum(game_records[i]['Score_diff'])\n"
     ]
    }
   ],
   "source": [
    "# calculate the total score diff\n",
    "final_records[\"Score_diff\"] = np.NaN\n",
    "for i in range(1,69):    \n",
    "    final_records[\"Score_diff\"][i-1] = np.sum(game_records[i]['Score_diff'])\n",
    "\n"
   ]
  }
 ],
 "metadata": {
  "kernelspec": {
   "display_name": "numpy-ds",
   "language": "python",
   "name": "python3"
  },
  "language_info": {
   "codemirror_mode": {
    "name": "ipython",
    "version": 3
   },
   "file_extension": ".py",
   "mimetype": "text/x-python",
   "name": "python",
   "nbconvert_exporter": "python",
   "pygments_lexer": "ipython3",
   "version": "3.9.15"
  }
 },
 "nbformat": 4,
 "nbformat_minor": 2
}
