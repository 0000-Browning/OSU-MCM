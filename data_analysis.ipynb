{
 "cells": [
  {
   "cell_type": "code",
   "execution_count": null,
   "metadata": {},
   "outputs": [],
   "source": [
    "import pandas as pd\n",
    "import numpy as np\n",
    "import matplotlib.pyplot as plt"
   ]
  },
  {
   "cell_type": "code",
   "execution_count": null,
   "metadata": {},
   "outputs": [],
   "source": [
    "# load in excel sheets\n",
    "xls = pd.ExcelFile('Basketball_dataset.xlsx')\n",
    "final_records = pd.read_excel(xls, 0)\n",
    "game_records = pd.read_excel(xls, list(range(1,69)))"
   ]
  },
  {
   "cell_type": "code",
   "execution_count": null,
   "metadata": {},
   "outputs": [],
   "source": [
    "# calculate score differential for all games\n",
    "for i in range(1,69):\n",
    "    game_records[i]['Score_diff'] = game_records[i]['Tm'] - game_records[i]['Opp']\n",
    "    game_records[i]['Score_diff_norm'] = game_records[i]['Score_diff'] / (game_records[i]['Tm'] + game_records[i]['Opp']) \n",
    "    game_records[i]['Score_diff_ratio'] = game_records[i]['Tm'] / game_records[i]['Opp']\n",
    "    game_records[i]['Score_diff_ratio'] = np.where(game_records[i]['Score_diff_ratio'] > 1, game_records[i]['Score_diff_ratio'], np.reciprocal(game_records[i]['Score_diff_ratio']) )\n",
    "\n"
   ]
  },
  {
   "cell_type": "code",
   "execution_count": null,
   "metadata": {},
   "outputs": [],
   "source": [
    "print(game_records[1]['Score_diff_ratio'])"
   ]
  },
  {
   "cell_type": "code",
   "execution_count": null,
   "metadata": {},
   "outputs": [],
   "source": [
    "# calculate the total score diff\n",
    "final_records[\"Score_diff\"] = np.NaN\n",
    "final_records[\"Score_diff_norm\"] = np.NaN\n",
    "for i in range(1,69):    \n",
    "    final_records[\"Score_diff\"][i-1] = np.sum(game_records[i]['Score_diff'])\n",
    "    final_records[\"Score_diff_norm\"][i-1] = np.sum(game_records[i]['Score_diff_norm'])\n",
    "\n"
   ]
  },
  {
   "cell_type": "code",
   "execution_count": null,
   "metadata": {},
   "outputs": [],
   "source": [
    "# print output\n",
    "print(final_records)\n",
    "#print(game_records[1]['Score_diff'])"
   ]
  },
  {
   "cell_type": "code",
   "execution_count": null,
   "metadata": {},
   "outputs": [],
   "source": [
    "plt.plot(final_records[\"Seed\"],final_records[\"Score_diff\"])\n",
    "plt.plot(final_records[\"Seed\"],150*final_records[\"Score_diff_norm\"])\n",
    "plt.xlabel(\"Team Playoff Seed\")\n",
    "plt.ylabel(\"Team Season Score differential\")\n",
    "plt.title(\"Playoff Seed vs Score differential\")"
   ]
  },
  {
   "cell_type": "code",
   "execution_count": null,
   "metadata": {},
   "outputs": [],
   "source": [
    "\n",
    "plt.plot(final_records[\"Seed\"],final_records[\"Score_diff_norm\"])\n",
    "plt.xlabel(\"Team Playoff Seed\")\n",
    "plt.ylabel(\"Team Season Score differential\")\n",
    "plt.title(\"Playoff Seed vs Score differential\")"
   ]
  }
 ],
 "metadata": {
  "kernelspec": {
   "display_name": "numpy-ds",
   "language": "python",
   "name": "python3"
  },
  "language_info": {
   "codemirror_mode": {
    "name": "ipython",
    "version": 3
   },
   "file_extension": ".py",
   "mimetype": "text/x-python",
   "name": "python",
   "nbconvert_exporter": "python",
   "pygments_lexer": "ipython3",
   "version": "3.9.15"
  }
 },
 "nbformat": 4,
 "nbformat_minor": 2
}
